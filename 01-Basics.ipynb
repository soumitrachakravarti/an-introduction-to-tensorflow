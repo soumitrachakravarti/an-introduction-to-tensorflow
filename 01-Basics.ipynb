{
 "cells": [
  {
   "cell_type": "markdown",
   "metadata": {},
   "source": [
    "[![Open In Colab](https://colab.research.google.com/assets/colab-badge.svg)](https://colab.research.google.com/github/soumitrachakravarti/an-introduction-to-tensorflow/blob/main/01-Basics.ipynb)"
   ]
  },
  {
   "cell_type": "markdown",
   "metadata": {},
   "source": [
    "## Basics\n",
    "\n",
    "### What is TensorFlow?\n",
    "\n",
    "TensorFlow is an end-to-end platform that makes it easy for you to build and deploy machine learning models. It is an open-source library for preprocessing data, modelling data and serving machine learning models\n",
    "\n",
    "### Why do we use TensorFlow?\n",
    "It's the same reason why use any library; to make life easier and quicker and not try to reinvent the wheel. Meaning, rather than building machine learning and deep learning models from the ground up, it's more efficient to use a library such as TensorFlow as it contains many common machine learning functions for easy implentation.\n",
    "\n",
    "### Objectives\n",
    "TF (TensorFlow) is enormous and vast, but the key idea is to convert data into numbers (referred as tensors) and use ML to identify patterns, which sounds fairly simple and it sometimes is but can very quickly become more complex.\n",
    "\n",
    "In this tutorial series for TF, we will cover fundamental operations like:\n",
    "* Tensors, their attributes and operations\n",
    "* NumPy (another python library)\n",
    "* Performance and GPU implemntation\n",
    "* [TF Documentation](https://www.tensorflow.org/api_docs/python/tf)"
   ]
  },
  {
   "cell_type": "markdown",
   "metadata": {},
   "source": [
    "### Tensors\n",
    "Tensors are n-dimensional [arrays](https://www.freecodecamp.org/news/python-array-tutorial-define-index-methods/), where n can be any number of:\n",
    "* numbers; tensors used to represent the daily prices of a mangoes \n",
    "* images; tenors used to represent the pixels of images of different types of mangoes\n",
    "* text; tensors used to represent words about how much people like or dislike eating mangoes\n",
    "* tensors can be used to represent any form of information\n",
    "\n",
    "### NumPy\n",
    "[NumPy](https://numpy.org/doc/stable/) is the fundamental package for scientific computing in Python. It is a Python library that provides a multidimensional array object, various derived objects (such as masked arrays and matrices), and an assortment of routines for fast operations on arrays, including mathematical, logical, shape manipulation, sorting, selecting, I/O, discrete Fourier transforms, basic linear algebra, basic statistical operations, random simulation and much more.\n",
    "\n",
    "### What's the difference?\n",
    "NumPy Arrays can run on CPU while Tensors can also run on **GPU** (and TPU), which results in faster performance; meaning less time\n"
   ]
  },
  {
   "cell_type": "code",
   "execution_count": null,
   "metadata": {},
   "outputs": [],
   "source": [
    "# Hands On\n",
    "import tensorflow as tf\n",
    "print(tf.__version__)"
   ]
  },
  {
   "cell_type": "markdown",
   "metadata": {},
   "source": [
    "### Creating your first Tensor\n",
    "In the real world, you would not be creating tensors manually, you would want to read from a data source and TF will automatically convert them to tensors.\n",
    "\n",
    "But just for our learning, we will create one manually using [tf.constant()](https://www.tensorflow.org/api_docs/python/tf/constant)"
   ]
  },
  {
   "cell_type": "code",
   "execution_count": null,
   "metadata": {},
   "outputs": [],
   "source": [
    "# Let's create the most simplest form of a tensor, Scalar\n",
    "# Scalar is a tensor with no dimensions, or simply just a number\n",
    "# Scalar is of a rank 0\n",
    "\n",
    "# Creating a scalar\n",
    "scalar = tf.constant(5)\n",
    "\n",
    "# Type check scalar\n",
    "scalar"
   ]
  }
 ],
 "metadata": {
  "kernelspec": {
   "display_name": "Python 3.10.6 64-bit",
   "language": "python",
   "name": "python3"
  },
  "language_info": {
   "name": "python",
   "version": "3.10.6"
  },
  "orig_nbformat": 4,
  "vscode": {
   "interpreter": {
    "hash": "b0fa6594d8f4cbf19f97940f81e996739fb7646882a419484c72d19e05852a7e"
   }
  }
 },
 "nbformat": 4,
 "nbformat_minor": 2
}
