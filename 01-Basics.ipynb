{
 "cells": [
  {
   "cell_type": "markdown",
   "metadata": {},
   "source": [
    "[![Open In Colab](https://colab.research.google.com/assets/colab-badge.svg)](https://colab.research.google.com/github/soumitrachakravarti/an-introduction-to-tensorflow/blob/main/01-Basics.ipynb)"
   ]
  },
  {
   "cell_type": "markdown",
   "metadata": {},
   "source": [
    "## Basics\n",
    "\n",
    "### What is TensorFlow?\n",
    "\n",
    "TensorFlow is an end-to-end platform that makes it easy for you to build and deploy machine learning models. It is an open-source library for preprocessing data, modelling data and serving machine learning models\n",
    "\n",
    "### Why do we use TensorFlow?\n",
    "It's the same reason why use any library; to make life easier and quicker and not try to reinvent the wheel. Meaning, rather than building machine learning and deep learning models from the ground up, it's more efficient to use a library such as TensorFlow as it contains many common machine learning functions for easy implentation.\n",
    "\n",
    "### Objectives\n",
    "TF (TensorFlow) is enormous and vast, but the key idea is to convert data into numbers (referred as tensors) and use ML to identify patterns, which sounds fairly simple and it sometimes is but can very quickly become more complex.\n",
    "\n",
    "In this tutorial series for TF, we will cover fundamental operations like:\n",
    "* Tensors, their attributes and operations\n",
    "* NumPy (another python library)\n",
    "* Performance and GPU implemntation\n",
    "* [TF Documentation](https://www.tensorflow.org/api_docs/python/tf)"
   ]
  },
  {
   "cell_type": "markdown",
   "metadata": {},
   "source": [
    "### Tensors\n",
    "Tensors are n-dimensional [arrays](https://www.freecodecamp.org/news/python-array-tutorial-define-index-methods/), where n can be any number of:\n",
    "* numbers; tensors used to represent the daily prices of a mangoes \n",
    "* images; tenors used to represent the pixels of images of different types of mangoes\n",
    "* text; tensors used to represent words about how much people like or dislike eating mangoes\n",
    "* tensors can be used to represent any form of information\n",
    "\n",
    "### NumPy\n",
    "[NumPy](https://numpy.org/doc/stable/) is the fundamental package for scientific computing in Python. It is a Python library that provides a multidimensional array object, various derived objects (such as masked arrays and matrices), and an assortment of routines for fast operations on arrays, including mathematical, logical, shape manipulation, sorting, selecting, I/O, discrete Fourier transforms, basic linear algebra, basic statistical operations, random simulation and much more.\n",
    "\n",
    "### What's the difference?\n",
    "NumPy Arrays can run on CPU while Tensors can also run on **GPU** (and TPU), which results in faster performance; meaning less time\n"
   ]
  },
  {
   "cell_type": "code",
   "execution_count": null,
   "metadata": {},
   "outputs": [],
   "source": [
    "# Hands On\n",
    "import tensorflow as tf\n",
    "# Sample Output 2.9.2\n",
    "print(tf.__version__)"
   ]
  },
  {
   "cell_type": "markdown",
   "metadata": {},
   "source": [
    "### Creating your first Tensor\n",
    "In the real world, you would not be creating tensors manually, you would want to read from a data source and TF will automatically convert them to tensors.\n",
    "\n",
    "But just for our learning, we will create one manually using [tf.constant()](https://www.tensorflow.org/api_docs/python/tf/constant)"
   ]
  },
  {
   "cell_type": "code",
   "execution_count": null,
   "metadata": {},
   "outputs": [],
   "source": [
    "# Let's create the most simplest form of a tensor, Scalar\n",
    "# Scalar is a tensor with no dimensions, or simply just a number\n",
    "# Scalar is of a rank 0\n",
    "\n",
    "# Creating a scalar\n",
    "scalar = tf.constant(5) # You can use any other number than 5\n",
    "\n",
    "# Type check scalar\n",
    "# Sample Output <tf.Tensor: shape=(), dtype=int32, numpy=5>\n",
    "scalar"
   ]
  },
  {
   "cell_type": "code",
   "execution_count": null,
   "metadata": {},
   "outputs": [],
   "source": [
    "# Check tensor dimensions using ndim\n",
    "# Sample Output 0\n",
    "scalar.ndim"
   ]
  },
  {
   "cell_type": "code",
   "execution_count": null,
   "metadata": {},
   "outputs": [],
   "source": [
    "# tf.constant() can be used to create tensors with more dimensions\n",
    "# A tensor with dimension 1 is called a vector\n",
    "vector = tf.constant([5, 5])\n",
    "\n",
    "# Type check vector\n",
    "# Sample Output <tf.Tensor: shape=(2,), dtype=int32, numpy=array([5, 5], dtype=int32)>\n",
    "vector"
   ]
  },
  {
   "cell_type": "code",
   "execution_count": null,
   "metadata": {},
   "outputs": [],
   "source": [
    "# Check tensor dimensions using ndim\n",
    "# Sample Output 1\n",
    "vector.ndim"
   ]
  },
  {
   "cell_type": "markdown",
   "metadata": {},
   "source": [
    "TF creates tensors with 32 bit precision by default. Meaning it either creates tensors using an int32 datatype or a float32 datatype\n",
    "We have seen so far 2 tensors with 0 and 1 dimensions using int32 data types, which is teh default choice.\n",
    "Let's now try and create a tensor with not the default settings"
   ]
  },
  {
   "cell_type": "code",
   "execution_count": null,
   "metadata": {},
   "outputs": [],
   "source": [
    "# A tensor with dimension 2 is called a matrix\n",
    "matrix = tf.constant([[11.5, 5.2], [6.2, 2.8], [5.0, 8.9]], dtype=tf.float16)\n",
    "\n",
    "# Type check matrix\n",
    "# Sample Output \n",
    "# <tf.Tensor: shape=(3, 2), \n",
    "# dtype=float16, \n",
    "# numpy=array([[11.5,  5.2],[ 6.2,  2.8],[ 5. ,  8.9]], \n",
    "# dtype=float16)>\n",
    "\n",
    "matrix"
   ]
  },
  {
   "cell_type": "code",
   "execution_count": null,
   "metadata": {},
   "outputs": [],
   "source": [
    "# We can also check the dimensions of matrix using ndim\n",
    "# Sample Output 2\n",
    "matrix.ndim"
   ]
  },
  {
   "cell_type": "code",
   "execution_count": null,
   "metadata": {},
   "outputs": [],
   "source": [
    "# Let's create a tensor with 3 dimensions\n",
    "tensor = tf.constant(\n",
    "                        # Tabbed for clear reading only\n",
    "                        [[[10, 22, 3],[42, 45, 76]],\n",
    "                        [[67, 85, 59],[10, 51, 22]],\n",
    "                        [[33, 54, 75],[16, 57, 98]]]\n",
    "                    )\n",
    "\n",
    "# Type check tensor\n",
    "# Sample Output\n",
    "# <tf.Tensor: shape=(3, 2, 3), dtype=int32, numpy=\n",
    "# array([[[10, 22,  3],\n",
    "#         [42, 45, 76]],\n",
    "#        [[67, 85, 59],\n",
    "#         [10, 51, 22]],\n",
    "#        [[33, 54, 75],\n",
    "#         [16, 57, 98]]], dtype=int32)>\n",
    "\n",
    "tensor"
   ]
  },
  {
   "cell_type": "code",
   "execution_count": null,
   "metadata": {},
   "outputs": [],
   "source": [
    "# Just like before we can also check the dimensions of matrix using ndim\n",
    "# Sample Output 3\n",
    "tensor.ndim"
   ]
  },
  {
   "cell_type": "markdown",
   "metadata": {},
   "source": [
    "The last tensor we created has 3 dimensions and is also know as a rank 3 tensor.\n",
    "By now you would have clearly guessed that we can create a tensor with any arbitary rank (any dimensions)\n",
    "\n",
    "Another example can be representing images with a shape of [0, 1, 2, 3]:\n",
    "* 0 and 1 can be used to represent the size of the image\n",
    "* 2 can be used to represent color profile like RGB\n",
    "* 3 can be used to represent the batch size for building neural networks"
   ]
  },
  {
   "cell_type": "code",
   "execution_count": null,
   "metadata": {},
   "outputs": [],
   "source": [
    "# Example tensor representing images\n",
    "image_tensor = tf.constant([1280, 720, 3, 32])\n",
    "\n",
    "# Type check image_tensor\n",
    "# Sample Output\n",
    "# <tf.Tensor: shape=(4,), dtype=int32,\n",
    "# numpy=array([1280,  720,    3,   32], dtype=int32)>\n",
    "\n",
    "image_tensor"
   ]
  },
  {
   "cell_type": "code",
   "execution_count": null,
   "metadata": {},
   "outputs": [],
   "source": [
    "# We can also check the dimensions\n",
    "# Sample Output 1\n",
    "image_tensor.ndim"
   ]
  },
  {
   "cell_type": "markdown",
   "metadata": {},
   "source": [
    "Until now we have created tensors using [tf.constant()](https://www.tensorflow.org/api_docs/python/tf/constant), which most likely you aren't going to use in a real world situation. An important point to note that all the tensors created so far are immutable (meaning can't be changed or constants).\n",
    "We can use [tf.Variable()](https://www.tensorflow.org/api_docs/python/tf/Variable) exactly the same way. I will leave that as a simple exercise (optional) as most likely TF will automatically choose when you load data as we will see in the upcoming chapters."
   ]
  }
 ],
 "metadata": {
  "kernelspec": {
   "display_name": "Python 3.10.6 (conda)",
   "language": "python",
   "name": "python3"
  },
  "language_info": {
   "codemirror_mode": {
    "name": "ipython",
    "version": 3
   },
   "file_extension": ".py",
   "mimetype": "text/x-python",
   "name": "python",
   "nbconvert_exporter": "python",
   "pygments_lexer": "ipython3",
   "version": "3.10.6"
  },
  "orig_nbformat": 4,
  "vscode": {
   "interpreter": {
    "hash": "f483ce4b4a1c33e3548efa9265bec6cfce829fe7963ea28639b795805c2a9127"
   }
  }
 },
 "nbformat": 4,
 "nbformat_minor": 2
}
